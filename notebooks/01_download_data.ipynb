{
 "cells": [
  {
   "cell_type": "code",
   "execution_count": 1,
   "metadata": {},
   "outputs": [
    {
     "name": "stderr",
     "output_type": "stream",
     "text": [
      "Retrieving folder list\n"
     ]
    },
    {
     "name": "stdout",
     "output_type": "stream",
     "text": [
      "Processing file 1PLpmU00MDMly3uAWzTAtYioMz79F5T8Z P001-com.oculus.vrshell-20240807-093454.mp4\n",
      "Processing file 1rPKYemYl7VX6N1KA2oe1T_Vrei1v-y1n P002-com.oculus.vrshell-20240807-111441.mp4\n",
      "Processing file 1f75clYhsZ-CTq-ASD-u-vnR87dGFgKJo P003-com.oculus.vrshell-20240807-113929.mp4\n",
      "Processing file 1Anv9DZgfPyYNuKg60wOUpsql-LdNnhvQ P004-com.oculus.vrshell-20240807-130612.mp4\n",
      "Processing file 1VKy9fC4X4-uWd7aTy_Fb3J0620iLhQlu P005-com.oculus.vrshell-20240807-134452.mp4\n",
      "Processing file 1vKgvGgK2Y6CLNBbndZic89NOHf9y_suk P006-com.oculus.vrshell-20240807-141325.mp4\n",
      "Processing file 11QmZQ7-9tesic73FNEiBehVU73saqHRX P007-com.oculus.vrshell-20240808-095942.mp4\n",
      "Processing file 1XVsD5fk8VTda3e7Q08X1ixSDaNm7sB8P P008-com.oculus.vrshell-20240808-103714.mp4\n",
      "Processing file 1JPjOA2knZPECYraUqcytoHbVEk-cy6qP P009-com.oculus.vrshell-20240808-113724.mp4\n",
      "Processing file 1yQcg2jGoD6FN15NCrZbTD7w3knp5oh_3 P010-com.oculus.vrshell-20240809-113425.mp4\n",
      "Processing file 1M6RtHJFzxqtpMminhY1GVhrlEZKk7Htk P011-com.oculus.vrshell-20240812-100724.mp4\n",
      "Building directory structure completed\n"
     ]
    },
    {
     "name": "stderr",
     "output_type": "stream",
     "text": [
      "Retrieving folder list completed\n",
      "Building directory structure\n",
      "\n",
      " \tCannot retrieve the public link of the file. You may need to change\n",
      "\tthe permission to 'Anyone with the link', or have had many accesses. \n",
      "\n",
      "You may still be able to access the file from the browser:\n",
      "\n",
      "\t https://drive.google.com/uc?id=1PLpmU00MDMly3uAWzTAtYioMz79F5T8Z \n",
      "\n",
      "Download ended unsuccessfully\n"
     ]
    },
    {
     "name": "stdout",
     "output_type": "stream",
     "text": [
      "Access denied with the following error:\n"
     ]
    },
    {
     "name": "stderr",
     "output_type": "stream",
     "text": [
      "Downloading files: 0file [00:00, ?file/s]\n"
     ]
    },
    {
     "ename": "TypeError",
     "evalue": "'NoneType' object is not iterable",
     "output_type": "error",
     "traceback": [
      "\u001b[0;31m---------------------------------------------------------------------------\u001b[0m",
      "\u001b[0;31mTypeError\u001b[0m                                 Traceback (most recent call last)",
      "Cell \u001b[0;32mIn[1], line 30\u001b[0m\n\u001b[1;32m     27\u001b[0m         gdown\u001b[38;5;241m.\u001b[39mdownload(file, output, quiet\u001b[38;5;241m=\u001b[39m\u001b[38;5;28;01mFalse\u001b[39;00m)\n\u001b[1;32m     29\u001b[0m \u001b[38;5;66;03m# Call the function with the specified folder\u001b[39;00m\n\u001b[0;32m---> 30\u001b[0m download_folder_with_progress(url, destination_folder)\n",
      "Cell \u001b[0;32mIn[1], line 20\u001b[0m, in \u001b[0;36mdownload_folder_with_progress\u001b[0;34m(url, destination_folder)\u001b[0m\n\u001b[1;32m     17\u001b[0m file_list \u001b[38;5;241m=\u001b[39m gdown\u001b[38;5;241m.\u001b[39mdownload_folder(url, use_cookies\u001b[38;5;241m=\u001b[39m\u001b[38;5;28;01mFalse\u001b[39;00m)\n\u001b[1;32m     19\u001b[0m \u001b[38;5;66;03m# Loop through all the downloaded files\u001b[39;00m\n\u001b[0;32m---> 20\u001b[0m \u001b[38;5;28;01mfor\u001b[39;00m file \u001b[38;5;129;01min\u001b[39;00m tqdm(file_list, desc\u001b[38;5;241m=\u001b[39m\u001b[38;5;124m\"\u001b[39m\u001b[38;5;124mDownloading files\u001b[39m\u001b[38;5;124m\"\u001b[39m, unit\u001b[38;5;241m=\u001b[39m\u001b[38;5;124m\"\u001b[39m\u001b[38;5;124mfile\u001b[39m\u001b[38;5;124m\"\u001b[39m):\n\u001b[1;32m     21\u001b[0m     \u001b[38;5;28mprint\u001b[39m(\u001b[38;5;124mf\u001b[39m\u001b[38;5;124m\"\u001b[39m\u001b[38;5;124mDownloading \u001b[39m\u001b[38;5;132;01m{\u001b[39;00mfile\u001b[38;5;132;01m}\u001b[39;00m\u001b[38;5;124m\"\u001b[39m)\n\u001b[1;32m     23\u001b[0m     \u001b[38;5;66;03m# Define the full path to save the file\u001b[39;00m\n",
      "File \u001b[0;32m~/anaconda3/lib/python3.11/site-packages/tqdm/std.py:1181\u001b[0m, in \u001b[0;36mtqdm.__iter__\u001b[0;34m(self)\u001b[0m\n\u001b[1;32m   1178\u001b[0m time \u001b[38;5;241m=\u001b[39m \u001b[38;5;28mself\u001b[39m\u001b[38;5;241m.\u001b[39m_time\n\u001b[1;32m   1180\u001b[0m \u001b[38;5;28;01mtry\u001b[39;00m:\n\u001b[0;32m-> 1181\u001b[0m     \u001b[38;5;28;01mfor\u001b[39;00m obj \u001b[38;5;129;01min\u001b[39;00m iterable:\n\u001b[1;32m   1182\u001b[0m         \u001b[38;5;28;01myield\u001b[39;00m obj\n\u001b[1;32m   1183\u001b[0m         \u001b[38;5;66;03m# Update and possibly print the progressbar.\u001b[39;00m\n\u001b[1;32m   1184\u001b[0m         \u001b[38;5;66;03m# Note: does not call self.update(1) for speed optimisation.\u001b[39;00m\n",
      "\u001b[0;31mTypeError\u001b[0m: 'NoneType' object is not iterable"
     ]
    }
   ],
   "source": [
    "import gdown\n",
    "from tqdm import tqdm\n",
    "import os\n",
    "\n",
    "# Define the folder URL\n",
    "url = \"https://drive.google.com/drive/folders/1hiV_IaEcUtFcBq3tG81L0rQFArdJSYf9?usp=sharing\"\n",
    "\n",
    "# Define the destination folder for downloading files\n",
    "destination_folder = \"../data/recording\"\n",
    "\n",
    "# Make sure the destination folder exists, or create it\n",
    "os.makedirs(destination_folder, exist_ok=True)\n",
    "\n",
    "# Define a function to download the folder with a progress bar\n",
    "def download_folder_with_progress(url, destination_folder):\n",
    "    # First, gdown needs to fetch all files inside the folder\n",
    "    file_list = gdown.download_folder(url, use_cookies=False)\n",
    "    \n",
    "    # Loop through all the downloaded files\n",
    "    for file in tqdm(file_list, desc=\"Downloading files\", unit=\"file\"):\n",
    "        print(f\"Downloading {file}\")\n",
    "        \n",
    "        # Define the full path to save the file\n",
    "        output = os.path.join(destination_folder, os.path.basename(file))\n",
    "        \n",
    "        # Download the file to the specified folder\n",
    "        gdown.download(file, output, quiet=False)\n",
    "\n",
    "# Call the function with the specified folder\n",
    "download_folder_with_progress(url, destination_folder)"
   ]
  },
  {
   "cell_type": "code",
   "execution_count": null,
   "metadata": {},
   "outputs": [],
   "source": [
    "import os\n",
    "\n",
    "# Specify the folder path\n",
    "folder_path = \"/work/van-speech-nlp/jindaznb/jslpnb/mllm_experiments/ellmat/data/In-person Language ELLMA VR Recordings\"  # Change this to your desired folder path\n",
    "\n",
    "# Function to list all files and their sizes in MB\n",
    "def list_files_and_sizes(folder_path):\n",
    "    # Check if the folder exists\n",
    "    if not os.path.exists(folder_path):\n",
    "        print(f\"The folder {folder_path} does not exist.\")\n",
    "        return\n",
    "    \n",
    "    # Loop through the folder\n",
    "    for root, dirs, files in os.walk(folder_path):\n",
    "        for file in files:\n",
    "            # Get the full path of the file\n",
    "            file_path = os.path.join(root, file)\n",
    "            # Get the size of the file in bytes\n",
    "            file_size_bytes = os.path.getsize(file_path)\n",
    "            # Convert the size from bytes to megabytes\n",
    "            file_size_mb = file_size_bytes / (1024 * 1024)\n",
    "            # Print the file name and its size in MB\n",
    "            print(f\"File: {file}, Size: {file_size_mb:.2f} MB\")\n",
    "\n",
    "# Call the function to list files and sizes in MB\n",
    "list_files_and_sizes(folder_path)"
   ]
  }
 ],
 "metadata": {
  "kernelspec": {
   "display_name": "base",
   "language": "python",
   "name": "python3"
  },
  "language_info": {
   "codemirror_mode": {
    "name": "ipython",
    "version": 3
   },
   "file_extension": ".py",
   "mimetype": "text/x-python",
   "name": "python",
   "nbconvert_exporter": "python",
   "pygments_lexer": "ipython3",
   "version": "3.11.5"
  },
  "orig_nbformat": 4
 },
 "nbformat": 4,
 "nbformat_minor": 2
}
