{
 "cells": [
  {
   "cell_type": "code",
   "execution_count": 4,
   "metadata": {},
   "outputs": [
    {
     "name": "stderr",
     "output_type": "stream",
     "text": [
      "Retrieving folder contents\n"
     ]
    },
    {
     "name": "stdout",
     "output_type": "stream",
     "text": [
      "Processing file 1PLpmU00MDMly3uAWzTAtYioMz79F5T8Z P001-com.oculus.vrshell-20240807-093454.mp4\n",
      "Processing file 1rPKYemYl7VX6N1KA2oe1T_Vrei1v-y1n P002-com.oculus.vrshell-20240807-111441.mp4\n",
      "Processing file 1f75clYhsZ-CTq-ASD-u-vnR87dGFgKJo P003-com.oculus.vrshell-20240807-113929.mp4\n",
      "Processing file 1Anv9DZgfPyYNuKg60wOUpsql-LdNnhvQ P004-com.oculus.vrshell-20240807-130612.mp4\n",
      "Processing file 1VKy9fC4X4-uWd7aTy_Fb3J0620iLhQlu P005-com.oculus.vrshell-20240807-134452.mp4\n",
      "Processing file 1vKgvGgK2Y6CLNBbndZic89NOHf9y_suk P006-com.oculus.vrshell-20240807-141325.mp4\n",
      "Processing file 11QmZQ7-9tesic73FNEiBehVU73saqHRX P007-com.oculus.vrshell-20240808-095942.mp4\n",
      "Processing file 1XVsD5fk8VTda3e7Q08X1ixSDaNm7sB8P P008-com.oculus.vrshell-20240808-103714.mp4\n",
      "Processing file 1JPjOA2knZPECYraUqcytoHbVEk-cy6qP P009-com.oculus.vrshell-20240808-113724.mp4\n",
      "Processing file 1yQcg2jGoD6FN15NCrZbTD7w3knp5oh_3 P010-com.oculus.vrshell-20240809-113425.mp4\n",
      "Processing file 1M6RtHJFzxqtpMminhY1GVhrlEZKk7Htk P011-com.oculus.vrshell-20240812-100724.mp4\n"
     ]
    },
    {
     "name": "stderr",
     "output_type": "stream",
     "text": [
      "Retrieving folder contents completed\n",
      "Building directory structure\n",
      "Building directory structure completed\n",
      "Downloading...\n",
      "From (original): https://drive.google.com/uc?id=1PLpmU00MDMly3uAWzTAtYioMz79F5T8Z\n",
      "From (redirected): https://drive.google.com/uc?id=1PLpmU00MDMly3uAWzTAtYioMz79F5T8Z&confirm=t&uuid=96a2fc07-2699-4ca3-bafe-95df79c7a926\n",
      "To: /home/osx/Documents/GitHub/LLEvalAgent/notebook/In-person Language ELLMA VR Recordings/P001-com.oculus.vrshell-20240807-093454.mp4\n",
      "100%|██████████| 309M/309M [00:40<00:00, 7.69MB/s] \n",
      "Downloading...\n",
      "From: https://drive.google.com/uc?id=1rPKYemYl7VX6N1KA2oe1T_Vrei1v-y1n\n",
      "To: /home/osx/Documents/GitHub/LLEvalAgent/notebook/In-person Language ELLMA VR Recordings/P002-com.oculus.vrshell-20240807-111441.mp4\n",
      "100%|██████████| 48.4M/48.4M [00:06<00:00, 7.18MB/s]\n",
      "Downloading...\n",
      "From (original): https://drive.google.com/uc?id=1f75clYhsZ-CTq-ASD-u-vnR87dGFgKJo\n",
      "From (redirected): https://drive.google.com/uc?id=1f75clYhsZ-CTq-ASD-u-vnR87dGFgKJo&confirm=t&uuid=a0d10c45-3045-4689-856d-b3fda063ee76\n",
      "To: /home/osx/Documents/GitHub/LLEvalAgent/notebook/In-person Language ELLMA VR Recordings/P003-com.oculus.vrshell-20240807-113929.mp4\n",
      "100%|██████████| 464M/464M [01:00<00:00, 7.67MB/s] \n",
      "Downloading...\n",
      "From (original): https://drive.google.com/uc?id=1Anv9DZgfPyYNuKg60wOUpsql-LdNnhvQ\n",
      "From (redirected): https://drive.google.com/uc?id=1Anv9DZgfPyYNuKg60wOUpsql-LdNnhvQ&confirm=t&uuid=d6c06e34-fdc0-48b0-a78c-b5d212f61164\n",
      "To: /home/osx/Documents/GitHub/LLEvalAgent/notebook/In-person Language ELLMA VR Recordings/P004-com.oculus.vrshell-20240807-130612.mp4\n",
      "100%|██████████| 435M/435M [00:56<00:00, 7.68MB/s] \n",
      "Downloading...\n",
      "From (original): https://drive.google.com/uc?id=1VKy9fC4X4-uWd7aTy_Fb3J0620iLhQlu\n",
      "From (redirected): https://drive.google.com/uc?id=1VKy9fC4X4-uWd7aTy_Fb3J0620iLhQlu&confirm=t&uuid=6a2b0353-8181-4552-96a8-49907da9811e\n",
      "To: /home/osx/Documents/GitHub/LLEvalAgent/notebook/In-person Language ELLMA VR Recordings/P005-com.oculus.vrshell-20240807-134452.mp4\n",
      "100%|██████████| 376M/376M [00:50<00:00, 7.39MB/s] \n",
      "Downloading...\n",
      "From (original): https://drive.google.com/uc?id=1vKgvGgK2Y6CLNBbndZic89NOHf9y_suk\n",
      "From (redirected): https://drive.google.com/uc?id=1vKgvGgK2Y6CLNBbndZic89NOHf9y_suk&confirm=t&uuid=e2629585-af86-4702-a188-1f1423c0cab9\n",
      "To: /home/osx/Documents/GitHub/LLEvalAgent/notebook/In-person Language ELLMA VR Recordings/P006-com.oculus.vrshell-20240807-141325.mp4\n",
      "100%|██████████| 281M/281M [00:39<00:00, 7.15MB/s] \n",
      "Downloading...\n",
      "From (original): https://drive.google.com/uc?id=11QmZQ7-9tesic73FNEiBehVU73saqHRX\n",
      "From (redirected): https://drive.google.com/uc?id=11QmZQ7-9tesic73FNEiBehVU73saqHRX&confirm=t&uuid=58d47983-97c0-46b9-92ac-b868ae28830b\n",
      "To: /home/osx/Documents/GitHub/LLEvalAgent/notebook/In-person Language ELLMA VR Recordings/P007-com.oculus.vrshell-20240808-095942.mp4\n",
      "100%|██████████| 382M/382M [00:52<00:00, 7.26MB/s] \n",
      "Downloading...\n",
      "From (original): https://drive.google.com/uc?id=1XVsD5fk8VTda3e7Q08X1ixSDaNm7sB8P\n",
      "From (redirected): https://drive.google.com/uc?id=1XVsD5fk8VTda3e7Q08X1ixSDaNm7sB8P&confirm=t&uuid=06db88b3-f045-4bf3-b797-6281e389b922\n",
      "To: /home/osx/Documents/GitHub/LLEvalAgent/notebook/In-person Language ELLMA VR Recordings/P008-com.oculus.vrshell-20240808-103714.mp4\n",
      "100%|██████████| 366M/366M [00:48<00:00, 7.53MB/s] \n",
      "Downloading...\n",
      "From (original): https://drive.google.com/uc?id=1JPjOA2knZPECYraUqcytoHbVEk-cy6qP\n",
      "From (redirected): https://drive.google.com/uc?id=1JPjOA2knZPECYraUqcytoHbVEk-cy6qP&confirm=t&uuid=692c0128-1915-44d6-a792-739366221b0c\n",
      "To: /home/osx/Documents/GitHub/LLEvalAgent/notebook/In-person Language ELLMA VR Recordings/P009-com.oculus.vrshell-20240808-113724.mp4\n",
      "100%|██████████| 607M/607M [01:18<00:00, 7.75MB/s] \n",
      "Downloading...\n",
      "From (original): https://drive.google.com/uc?id=1yQcg2jGoD6FN15NCrZbTD7w3knp5oh_3\n",
      "From (redirected): https://drive.google.com/uc?id=1yQcg2jGoD6FN15NCrZbTD7w3knp5oh_3&confirm=t&uuid=216a65ad-c9fa-4760-9f05-976acbc4a5cd\n",
      "To: /home/osx/Documents/GitHub/LLEvalAgent/notebook/In-person Language ELLMA VR Recordings/P010-com.oculus.vrshell-20240809-113425.mp4\n",
      "100%|██████████| 351M/351M [00:45<00:00, 7.70MB/s] \n",
      "Downloading...\n",
      "From (original): https://drive.google.com/uc?id=1M6RtHJFzxqtpMminhY1GVhrlEZKk7Htk\n",
      "From (redirected): https://drive.google.com/uc?id=1M6RtHJFzxqtpMminhY1GVhrlEZKk7Htk&confirm=t&uuid=fbe336f9-3faa-4e01-9463-12db76471432\n",
      "To: /home/osx/Documents/GitHub/LLEvalAgent/notebook/In-person Language ELLMA VR Recordings/P011-com.oculus.vrshell-20240812-100724.mp4\n",
      "100%|██████████| 305M/305M [00:40<00:00, 7.53MB/s] \n",
      "Download completed\n",
      "Downloading files:   0%|          | 0/11 [00:00<?, ?file/s]\n"
     ]
    },
    {
     "name": "stdout",
     "output_type": "stream",
     "text": [
      "Downloading /home/osx/Documents/GitHub/LLEvalAgent/notebook/In-person Language ELLMA VR Recordings/P001-com.oculus.vrshell-20240807-093454.mp4\n"
     ]
    },
    {
     "ename": "MissingSchema",
     "evalue": "Invalid URL '/home/osx/Documents/GitHub/LLEvalAgent/notebook/In-person Language ELLMA VR Recordings/P001-com.oculus.vrshell-20240807-093454.mp4': No scheme supplied. Perhaps you meant https:///home/osx/Documents/GitHub/LLEvalAgent/notebook/In-person Language ELLMA VR Recordings/P001-com.oculus.vrshell-20240807-093454.mp4?",
     "output_type": "error",
     "traceback": [
      "\u001b[0;31m---------------------------------------------------------------------------\u001b[0m",
      "\u001b[0;31mMissingSchema\u001b[0m                             Traceback (most recent call last)",
      "Cell \u001b[0;32mIn[4], line 30\u001b[0m\n\u001b[1;32m     27\u001b[0m         gdown\u001b[38;5;241m.\u001b[39mdownload(file, output, quiet\u001b[38;5;241m=\u001b[39m\u001b[38;5;28;01mFalse\u001b[39;00m)\n\u001b[1;32m     29\u001b[0m \u001b[38;5;66;03m# Call the function with the specified folder\u001b[39;00m\n\u001b[0;32m---> 30\u001b[0m \u001b[43mdownload_folder_with_progress\u001b[49m\u001b[43m(\u001b[49m\u001b[43murl\u001b[49m\u001b[43m,\u001b[49m\u001b[43m \u001b[49m\u001b[43mdestination_folder\u001b[49m\u001b[43m)\u001b[49m\n",
      "Cell \u001b[0;32mIn[4], line 27\u001b[0m, in \u001b[0;36mdownload_folder_with_progress\u001b[0;34m(url, destination_folder)\u001b[0m\n\u001b[1;32m     24\u001b[0m output \u001b[38;5;241m=\u001b[39m os\u001b[38;5;241m.\u001b[39mpath\u001b[38;5;241m.\u001b[39mjoin(destination_folder, os\u001b[38;5;241m.\u001b[39mpath\u001b[38;5;241m.\u001b[39mbasename(file))\n\u001b[1;32m     26\u001b[0m \u001b[38;5;66;03m# Download the file to the specified folder\u001b[39;00m\n\u001b[0;32m---> 27\u001b[0m \u001b[43mgdown\u001b[49m\u001b[38;5;241;43m.\u001b[39;49m\u001b[43mdownload\u001b[49m\u001b[43m(\u001b[49m\u001b[43mfile\u001b[49m\u001b[43m,\u001b[49m\u001b[43m \u001b[49m\u001b[43moutput\u001b[49m\u001b[43m,\u001b[49m\u001b[43m \u001b[49m\u001b[43mquiet\u001b[49m\u001b[38;5;241;43m=\u001b[39;49m\u001b[38;5;28;43;01mFalse\u001b[39;49;00m\u001b[43m)\u001b[49m\n",
      "File \u001b[0;32m~/anaconda3/lib/python3.10/site-packages/gdown/download.py:202\u001b[0m, in \u001b[0;36mdownload\u001b[0;34m(url, output, quiet, proxy, speed, use_cookies, verify, id, fuzzy, resume, format, user_agent, log_messages)\u001b[0m\n\u001b[1;32m    199\u001b[0m     is_gdrive_download_link \u001b[38;5;241m=\u001b[39m \u001b[38;5;28;01mTrue\u001b[39;00m\n\u001b[1;32m    201\u001b[0m \u001b[38;5;28;01mwhile\u001b[39;00m \u001b[38;5;28;01mTrue\u001b[39;00m:\n\u001b[0;32m--> 202\u001b[0m     res \u001b[38;5;241m=\u001b[39m \u001b[43msess\u001b[49m\u001b[38;5;241;43m.\u001b[39;49m\u001b[43mget\u001b[49m\u001b[43m(\u001b[49m\u001b[43murl\u001b[49m\u001b[43m,\u001b[49m\u001b[43m \u001b[49m\u001b[43mstream\u001b[49m\u001b[38;5;241;43m=\u001b[39;49m\u001b[38;5;28;43;01mTrue\u001b[39;49;00m\u001b[43m,\u001b[49m\u001b[43m \u001b[49m\u001b[43mverify\u001b[49m\u001b[38;5;241;43m=\u001b[39;49m\u001b[43mverify\u001b[49m\u001b[43m)\u001b[49m\n\u001b[1;32m    204\u001b[0m     \u001b[38;5;28;01mif\u001b[39;00m \u001b[38;5;129;01mnot\u001b[39;00m (gdrive_file_id \u001b[38;5;129;01mand\u001b[39;00m is_gdrive_download_link):\n\u001b[1;32m    205\u001b[0m         \u001b[38;5;28;01mbreak\u001b[39;00m\n",
      "File \u001b[0;32m~/.local/lib/python3.10/site-packages/requests/sessions.py:602\u001b[0m, in \u001b[0;36mSession.get\u001b[0;34m(self, url, **kwargs)\u001b[0m\n\u001b[1;32m    594\u001b[0m \u001b[38;5;250m\u001b[39m\u001b[38;5;124mr\u001b[39m\u001b[38;5;124;03m\"\"\"Sends a GET request. Returns :class:`Response` object.\u001b[39;00m\n\u001b[1;32m    595\u001b[0m \n\u001b[1;32m    596\u001b[0m \u001b[38;5;124;03m:param url: URL for the new :class:`Request` object.\u001b[39;00m\n\u001b[1;32m    597\u001b[0m \u001b[38;5;124;03m:param \\*\\*kwargs: Optional arguments that ``request`` takes.\u001b[39;00m\n\u001b[1;32m    598\u001b[0m \u001b[38;5;124;03m:rtype: requests.Response\u001b[39;00m\n\u001b[1;32m    599\u001b[0m \u001b[38;5;124;03m\"\"\"\u001b[39;00m\n\u001b[1;32m    601\u001b[0m kwargs\u001b[38;5;241m.\u001b[39msetdefault(\u001b[38;5;124m\"\u001b[39m\u001b[38;5;124mallow_redirects\u001b[39m\u001b[38;5;124m\"\u001b[39m, \u001b[38;5;28;01mTrue\u001b[39;00m)\n\u001b[0;32m--> 602\u001b[0m \u001b[38;5;28;01mreturn\u001b[39;00m \u001b[38;5;28;43mself\u001b[39;49m\u001b[38;5;241;43m.\u001b[39;49m\u001b[43mrequest\u001b[49m\u001b[43m(\u001b[49m\u001b[38;5;124;43m\"\u001b[39;49m\u001b[38;5;124;43mGET\u001b[39;49m\u001b[38;5;124;43m\"\u001b[39;49m\u001b[43m,\u001b[49m\u001b[43m \u001b[49m\u001b[43murl\u001b[49m\u001b[43m,\u001b[49m\u001b[43m \u001b[49m\u001b[38;5;241;43m*\u001b[39;49m\u001b[38;5;241;43m*\u001b[39;49m\u001b[43mkwargs\u001b[49m\u001b[43m)\u001b[49m\n",
      "File \u001b[0;32m~/.local/lib/python3.10/site-packages/requests/sessions.py:575\u001b[0m, in \u001b[0;36mSession.request\u001b[0;34m(self, method, url, params, data, headers, cookies, files, auth, timeout, allow_redirects, proxies, hooks, stream, verify, cert, json)\u001b[0m\n\u001b[1;32m    562\u001b[0m \u001b[38;5;66;03m# Create the Request.\u001b[39;00m\n\u001b[1;32m    563\u001b[0m req \u001b[38;5;241m=\u001b[39m Request(\n\u001b[1;32m    564\u001b[0m     method\u001b[38;5;241m=\u001b[39mmethod\u001b[38;5;241m.\u001b[39mupper(),\n\u001b[1;32m    565\u001b[0m     url\u001b[38;5;241m=\u001b[39murl,\n\u001b[0;32m   (...)\u001b[0m\n\u001b[1;32m    573\u001b[0m     hooks\u001b[38;5;241m=\u001b[39mhooks,\n\u001b[1;32m    574\u001b[0m )\n\u001b[0;32m--> 575\u001b[0m prep \u001b[38;5;241m=\u001b[39m \u001b[38;5;28;43mself\u001b[39;49m\u001b[38;5;241;43m.\u001b[39;49m\u001b[43mprepare_request\u001b[49m\u001b[43m(\u001b[49m\u001b[43mreq\u001b[49m\u001b[43m)\u001b[49m\n\u001b[1;32m    577\u001b[0m proxies \u001b[38;5;241m=\u001b[39m proxies \u001b[38;5;129;01mor\u001b[39;00m {}\n\u001b[1;32m    579\u001b[0m settings \u001b[38;5;241m=\u001b[39m \u001b[38;5;28mself\u001b[39m\u001b[38;5;241m.\u001b[39mmerge_environment_settings(\n\u001b[1;32m    580\u001b[0m     prep\u001b[38;5;241m.\u001b[39murl, proxies, stream, verify, cert\n\u001b[1;32m    581\u001b[0m )\n",
      "File \u001b[0;32m~/.local/lib/python3.10/site-packages/requests/sessions.py:484\u001b[0m, in \u001b[0;36mSession.prepare_request\u001b[0;34m(self, request)\u001b[0m\n\u001b[1;32m    481\u001b[0m     auth \u001b[38;5;241m=\u001b[39m get_netrc_auth(request\u001b[38;5;241m.\u001b[39murl)\n\u001b[1;32m    483\u001b[0m p \u001b[38;5;241m=\u001b[39m PreparedRequest()\n\u001b[0;32m--> 484\u001b[0m \u001b[43mp\u001b[49m\u001b[38;5;241;43m.\u001b[39;49m\u001b[43mprepare\u001b[49m\u001b[43m(\u001b[49m\n\u001b[1;32m    485\u001b[0m \u001b[43m    \u001b[49m\u001b[43mmethod\u001b[49m\u001b[38;5;241;43m=\u001b[39;49m\u001b[43mrequest\u001b[49m\u001b[38;5;241;43m.\u001b[39;49m\u001b[43mmethod\u001b[49m\u001b[38;5;241;43m.\u001b[39;49m\u001b[43mupper\u001b[49m\u001b[43m(\u001b[49m\u001b[43m)\u001b[49m\u001b[43m,\u001b[49m\n\u001b[1;32m    486\u001b[0m \u001b[43m    \u001b[49m\u001b[43murl\u001b[49m\u001b[38;5;241;43m=\u001b[39;49m\u001b[43mrequest\u001b[49m\u001b[38;5;241;43m.\u001b[39;49m\u001b[43murl\u001b[49m\u001b[43m,\u001b[49m\n\u001b[1;32m    487\u001b[0m \u001b[43m    \u001b[49m\u001b[43mfiles\u001b[49m\u001b[38;5;241;43m=\u001b[39;49m\u001b[43mrequest\u001b[49m\u001b[38;5;241;43m.\u001b[39;49m\u001b[43mfiles\u001b[49m\u001b[43m,\u001b[49m\n\u001b[1;32m    488\u001b[0m \u001b[43m    \u001b[49m\u001b[43mdata\u001b[49m\u001b[38;5;241;43m=\u001b[39;49m\u001b[43mrequest\u001b[49m\u001b[38;5;241;43m.\u001b[39;49m\u001b[43mdata\u001b[49m\u001b[43m,\u001b[49m\n\u001b[1;32m    489\u001b[0m \u001b[43m    \u001b[49m\u001b[43mjson\u001b[49m\u001b[38;5;241;43m=\u001b[39;49m\u001b[43mrequest\u001b[49m\u001b[38;5;241;43m.\u001b[39;49m\u001b[43mjson\u001b[49m\u001b[43m,\u001b[49m\n\u001b[1;32m    490\u001b[0m \u001b[43m    \u001b[49m\u001b[43mheaders\u001b[49m\u001b[38;5;241;43m=\u001b[39;49m\u001b[43mmerge_setting\u001b[49m\u001b[43m(\u001b[49m\n\u001b[1;32m    491\u001b[0m \u001b[43m        \u001b[49m\u001b[43mrequest\u001b[49m\u001b[38;5;241;43m.\u001b[39;49m\u001b[43mheaders\u001b[49m\u001b[43m,\u001b[49m\u001b[43m \u001b[49m\u001b[38;5;28;43mself\u001b[39;49m\u001b[38;5;241;43m.\u001b[39;49m\u001b[43mheaders\u001b[49m\u001b[43m,\u001b[49m\u001b[43m \u001b[49m\u001b[43mdict_class\u001b[49m\u001b[38;5;241;43m=\u001b[39;49m\u001b[43mCaseInsensitiveDict\u001b[49m\n\u001b[1;32m    492\u001b[0m \u001b[43m    \u001b[49m\u001b[43m)\u001b[49m\u001b[43m,\u001b[49m\n\u001b[1;32m    493\u001b[0m \u001b[43m    \u001b[49m\u001b[43mparams\u001b[49m\u001b[38;5;241;43m=\u001b[39;49m\u001b[43mmerge_setting\u001b[49m\u001b[43m(\u001b[49m\u001b[43mrequest\u001b[49m\u001b[38;5;241;43m.\u001b[39;49m\u001b[43mparams\u001b[49m\u001b[43m,\u001b[49m\u001b[43m \u001b[49m\u001b[38;5;28;43mself\u001b[39;49m\u001b[38;5;241;43m.\u001b[39;49m\u001b[43mparams\u001b[49m\u001b[43m)\u001b[49m\u001b[43m,\u001b[49m\n\u001b[1;32m    494\u001b[0m \u001b[43m    \u001b[49m\u001b[43mauth\u001b[49m\u001b[38;5;241;43m=\u001b[39;49m\u001b[43mmerge_setting\u001b[49m\u001b[43m(\u001b[49m\u001b[43mauth\u001b[49m\u001b[43m,\u001b[49m\u001b[43m \u001b[49m\u001b[38;5;28;43mself\u001b[39;49m\u001b[38;5;241;43m.\u001b[39;49m\u001b[43mauth\u001b[49m\u001b[43m)\u001b[49m\u001b[43m,\u001b[49m\n\u001b[1;32m    495\u001b[0m \u001b[43m    \u001b[49m\u001b[43mcookies\u001b[49m\u001b[38;5;241;43m=\u001b[39;49m\u001b[43mmerged_cookies\u001b[49m\u001b[43m,\u001b[49m\n\u001b[1;32m    496\u001b[0m \u001b[43m    \u001b[49m\u001b[43mhooks\u001b[49m\u001b[38;5;241;43m=\u001b[39;49m\u001b[43mmerge_hooks\u001b[49m\u001b[43m(\u001b[49m\u001b[43mrequest\u001b[49m\u001b[38;5;241;43m.\u001b[39;49m\u001b[43mhooks\u001b[49m\u001b[43m,\u001b[49m\u001b[43m \u001b[49m\u001b[38;5;28;43mself\u001b[39;49m\u001b[38;5;241;43m.\u001b[39;49m\u001b[43mhooks\u001b[49m\u001b[43m)\u001b[49m\u001b[43m,\u001b[49m\n\u001b[1;32m    497\u001b[0m \u001b[43m\u001b[49m\u001b[43m)\u001b[49m\n\u001b[1;32m    498\u001b[0m \u001b[38;5;28;01mreturn\u001b[39;00m p\n",
      "File \u001b[0;32m~/.local/lib/python3.10/site-packages/requests/models.py:367\u001b[0m, in \u001b[0;36mPreparedRequest.prepare\u001b[0;34m(self, method, url, headers, files, data, params, auth, cookies, hooks, json)\u001b[0m\n\u001b[1;32m    364\u001b[0m \u001b[38;5;250m\u001b[39m\u001b[38;5;124;03m\"\"\"Prepares the entire request with the given parameters.\"\"\"\u001b[39;00m\n\u001b[1;32m    366\u001b[0m \u001b[38;5;28mself\u001b[39m\u001b[38;5;241m.\u001b[39mprepare_method(method)\n\u001b[0;32m--> 367\u001b[0m \u001b[38;5;28;43mself\u001b[39;49m\u001b[38;5;241;43m.\u001b[39;49m\u001b[43mprepare_url\u001b[49m\u001b[43m(\u001b[49m\u001b[43murl\u001b[49m\u001b[43m,\u001b[49m\u001b[43m \u001b[49m\u001b[43mparams\u001b[49m\u001b[43m)\u001b[49m\n\u001b[1;32m    368\u001b[0m \u001b[38;5;28mself\u001b[39m\u001b[38;5;241m.\u001b[39mprepare_headers(headers)\n\u001b[1;32m    369\u001b[0m \u001b[38;5;28mself\u001b[39m\u001b[38;5;241m.\u001b[39mprepare_cookies(cookies)\n",
      "File \u001b[0;32m~/.local/lib/python3.10/site-packages/requests/models.py:438\u001b[0m, in \u001b[0;36mPreparedRequest.prepare_url\u001b[0;34m(self, url, params)\u001b[0m\n\u001b[1;32m    435\u001b[0m     \u001b[38;5;28;01mraise\u001b[39;00m InvalidURL(\u001b[38;5;241m*\u001b[39me\u001b[38;5;241m.\u001b[39margs)\n\u001b[1;32m    437\u001b[0m \u001b[38;5;28;01mif\u001b[39;00m \u001b[38;5;129;01mnot\u001b[39;00m scheme:\n\u001b[0;32m--> 438\u001b[0m     \u001b[38;5;28;01mraise\u001b[39;00m MissingSchema(\n\u001b[1;32m    439\u001b[0m         \u001b[38;5;124mf\u001b[39m\u001b[38;5;124m\"\u001b[39m\u001b[38;5;124mInvalid URL \u001b[39m\u001b[38;5;132;01m{\u001b[39;00murl\u001b[38;5;132;01m!r}\u001b[39;00m\u001b[38;5;124m: No scheme supplied. \u001b[39m\u001b[38;5;124m\"\u001b[39m\n\u001b[1;32m    440\u001b[0m         \u001b[38;5;124mf\u001b[39m\u001b[38;5;124m\"\u001b[39m\u001b[38;5;124mPerhaps you meant https://\u001b[39m\u001b[38;5;132;01m{\u001b[39;00murl\u001b[38;5;132;01m}\u001b[39;00m\u001b[38;5;124m?\u001b[39m\u001b[38;5;124m\"\u001b[39m\n\u001b[1;32m    441\u001b[0m     )\n\u001b[1;32m    443\u001b[0m \u001b[38;5;28;01mif\u001b[39;00m \u001b[38;5;129;01mnot\u001b[39;00m host:\n\u001b[1;32m    444\u001b[0m     \u001b[38;5;28;01mraise\u001b[39;00m InvalidURL(\u001b[38;5;124mf\u001b[39m\u001b[38;5;124m\"\u001b[39m\u001b[38;5;124mInvalid URL \u001b[39m\u001b[38;5;132;01m{\u001b[39;00murl\u001b[38;5;132;01m!r}\u001b[39;00m\u001b[38;5;124m: No host supplied\u001b[39m\u001b[38;5;124m\"\u001b[39m)\n",
      "\u001b[0;31mMissingSchema\u001b[0m: Invalid URL '/home/osx/Documents/GitHub/LLEvalAgent/notebook/In-person Language ELLMA VR Recordings/P001-com.oculus.vrshell-20240807-093454.mp4': No scheme supplied. Perhaps you meant https:///home/osx/Documents/GitHub/LLEvalAgent/notebook/In-person Language ELLMA VR Recordings/P001-com.oculus.vrshell-20240807-093454.mp4?"
     ]
    }
   ],
   "source": [
    "import gdown\n",
    "from tqdm import tqdm\n",
    "import os\n",
    "\n",
    "# Define the folder URL\n",
    "url = \"https://drive.google.com/drive/u/0/folders/1hiV_IaEcUtFcBq3tG81L0rQFArdJSYf9\"\n",
    "\n",
    "# Define the destination folder for downloading files\n",
    "destination_folder = \"../data\"\n",
    "\n",
    "# Make sure the destination folder exists, or create it\n",
    "os.makedirs(destination_folder, exist_ok=True)\n",
    "\n",
    "# Define a function to download the folder with a progress bar\n",
    "def download_folder_with_progress(url, destination_folder):\n",
    "    # First, gdown needs to fetch all files inside the folder\n",
    "    file_list = gdown.download_folder(url, use_cookies=False)\n",
    "    \n",
    "    # Loop through all the downloaded files\n",
    "    for file in tqdm(file_list, desc=\"Downloading files\", unit=\"file\"):\n",
    "        print(f\"Downloading {file}\")\n",
    "        \n",
    "        # Define the full path to save the file\n",
    "        output = os.path.join(destination_folder, os.path.basename(file))\n",
    "        \n",
    "        # Download the file to the specified folder\n",
    "        gdown.download(file, output, quiet=False)\n",
    "\n",
    "# Call the function with the specified folder\n",
    "download_folder_with_progress(url, destination_folder)"
   ]
  },
  {
   "cell_type": "code",
   "execution_count": null,
   "metadata": {},
   "outputs": [
    {
     "name": "stdout",
     "output_type": "stream",
     "text": [
      "File: P001-com.oculus.vrshell-20240807-093454.mp4, Size: 294.27 MB\n",
      "File: P002-com.oculus.vrshell-20240807-111441.mp4, Size: 46.20 MB\n",
      "File: P003-com.oculus.vrshell-20240807-113929.mp4, Size: 442.18 MB\n",
      "File: P004-com.oculus.vrshell-20240807-130612.mp4, Size: 415.10 MB\n",
      "File: P005-com.oculus.vrshell-20240807-134452.mp4, Size: 358.47 MB\n",
      "File: P006-com.oculus.vrshell-20240807-141325.mp4, Size: 267.70 MB\n",
      "File: P007-com.oculus.vrshell-20240808-095942.mp4, Size: 364.36 MB\n",
      "File: P008-com.oculus.vrshell-20240808-103714.mp4, Size: 349.46 MB\n",
      "File: P009-com.oculus.vrshell-20240808-113724.mp4, Size: 578.93 MB\n",
      "File: P010-com.oculus.vrshell-20240809-113425.mp4, Size: 334.55 MB\n",
      "File: P011-com.oculus.vrshell-20240812-100724.mp4, Size: 291.09 MB\n"
     ]
    }
   ],
   "source": [
    "import os\n",
    "\n",
    "# Specify the folder path\n",
    "folder_path = \"/work/van-speech-nlp/jindaznb/jslpnb/mllm_experiments/ellmat/data/In-person Language ELLMA VR Recordings\"  # Change this to your desired folder path\n",
    "\n",
    "# Function to list all files and their sizes in MB\n",
    "def list_files_and_sizes(folder_path):\n",
    "    # Check if the folder exists\n",
    "    if not os.path.exists(folder_path):\n",
    "        print(f\"The folder {folder_path} does not exist.\")\n",
    "        return\n",
    "    \n",
    "    # Loop through the folder\n",
    "    for root, dirs, files in os.walk(folder_path):\n",
    "        for file in files:\n",
    "            # Get the full path of the file\n",
    "            file_path = os.path.join(root, file)\n",
    "            # Get the size of the file in bytes\n",
    "            file_size_bytes = os.path.getsize(file_path)\n",
    "            # Convert the size from bytes to megabytes\n",
    "            file_size_mb = file_size_bytes / (1024 * 1024)\n",
    "            # Print the file name and its size in MB\n",
    "            print(f\"File: {file}, Size: {file_size_mb:.2f} MB\")\n",
    "\n",
    "# Call the function to list files and sizes in MB\n",
    "list_files_and_sizes(folder_path)"
   ]
  }
 ],
 "metadata": {
  "kernelspec": {
   "display_name": "base",
   "language": "python",
   "name": "python3"
  },
  "language_info": {
   "codemirror_mode": {
    "name": "ipython",
    "version": 3
   },
   "file_extension": ".py",
   "mimetype": "text/x-python",
   "name": "python",
   "nbconvert_exporter": "python",
   "pygments_lexer": "ipython3",
   "version": "3.10.13"
  },
  "orig_nbformat": 4
 },
 "nbformat": 4,
 "nbformat_minor": 2
}
