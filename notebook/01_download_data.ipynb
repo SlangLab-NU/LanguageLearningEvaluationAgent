{
 "cells": [
  {
   "cell_type": "code",
   "execution_count": 1,
   "metadata": {},
   "outputs": [
    {
     "name": "stderr",
     "output_type": "stream",
     "text": [
      "Downloading files:   0%|          | 0/11 [00:00<?, ?file/s]\n"
     ]
    },
    {
     "name": "stdout",
     "output_type": "stream",
     "text": [
      "Downloading /work/van-speech-nlp/jindaznb/jslpnb/mllm_experiments/ellmat/notebook/In-person Language ELLMA VR Recordings/P001-com.oculus.vrshell-20240807-093454.mp4\n"
     ]
    },
    {
     "ename": "MissingSchema",
     "evalue": "Invalid URL '/work/van-speech-nlp/jindaznb/jslpnb/mllm_experiments/ellmat/notebook/In-person Language ELLMA VR Recordings/P001-com.oculus.vrshell-20240807-093454.mp4': No scheme supplied. Perhaps you meant https:///work/van-speech-nlp/jindaznb/jslpnb/mllm_experiments/ellmat/notebook/In-person Language ELLMA VR Recordings/P001-com.oculus.vrshell-20240807-093454.mp4?",
     "output_type": "error",
     "traceback": [
      "\u001b[0;31m---------------------------------------------------------------------------\u001b[0m",
      "\u001b[0;31mMissingSchema\u001b[0m                             Traceback (most recent call last)",
      "Cell \u001b[0;32mIn[1], line 30\u001b[0m\n\u001b[1;32m     27\u001b[0m         gdown\u001b[39m.\u001b[39mdownload(file, output, quiet\u001b[39m=\u001b[39m\u001b[39mFalse\u001b[39;00m)\n\u001b[1;32m     29\u001b[0m \u001b[39m# Call the function with the specified folder\u001b[39;00m\n\u001b[0;32m---> 30\u001b[0m download_folder_with_progress(url, destination_folder)\n",
      "Cell \u001b[0;32mIn[1], line 27\u001b[0m, in \u001b[0;36mdownload_folder_with_progress\u001b[0;34m(url, destination_folder)\u001b[0m\n\u001b[1;32m     24\u001b[0m output \u001b[39m=\u001b[39m os\u001b[39m.\u001b[39mpath\u001b[39m.\u001b[39mjoin(destination_folder, os\u001b[39m.\u001b[39mpath\u001b[39m.\u001b[39mbasename(file))\n\u001b[1;32m     26\u001b[0m \u001b[39m# Download the file to the specified folder\u001b[39;00m\n\u001b[0;32m---> 27\u001b[0m gdown\u001b[39m.\u001b[39;49mdownload(file, output, quiet\u001b[39m=\u001b[39;49m\u001b[39mFalse\u001b[39;49;00m)\n",
      "File \u001b[0;32m/work/van-speech-nlp/jindaznb/mmenv/lib/python3.9/site-packages/gdown/download.py:188\u001b[0m, in \u001b[0;36mdownload\u001b[0;34m(url, output, quiet, proxy, speed, use_cookies, verify, id, fuzzy, resume, format, user_agent, log_messages)\u001b[0m\n\u001b[1;32m    185\u001b[0m     is_gdrive_download_link \u001b[39m=\u001b[39m \u001b[39mTrue\u001b[39;00m\n\u001b[1;32m    187\u001b[0m \u001b[39mwhile\u001b[39;00m \u001b[39mTrue\u001b[39;00m:\n\u001b[0;32m--> 188\u001b[0m     res \u001b[39m=\u001b[39m sess\u001b[39m.\u001b[39;49mget(url, stream\u001b[39m=\u001b[39;49m\u001b[39mTrue\u001b[39;49;00m, verify\u001b[39m=\u001b[39;49mverify)\n\u001b[1;32m    190\u001b[0m     \u001b[39mif\u001b[39;00m \u001b[39mnot\u001b[39;00m (gdrive_file_id \u001b[39mand\u001b[39;00m is_gdrive_download_link):\n\u001b[1;32m    191\u001b[0m         \u001b[39mbreak\u001b[39;00m\n",
      "File \u001b[0;32m/work/van-speech-nlp/jindaznb/mmenv/lib/python3.9/site-packages/requests/sessions.py:602\u001b[0m, in \u001b[0;36mSession.get\u001b[0;34m(self, url, **kwargs)\u001b[0m\n\u001b[1;32m    594\u001b[0m \u001b[39m\u001b[39m\u001b[39mr\u001b[39m\u001b[39m\"\"\"Sends a GET request. Returns :class:`Response` object.\u001b[39;00m\n\u001b[1;32m    595\u001b[0m \n\u001b[1;32m    596\u001b[0m \u001b[39m:param url: URL for the new :class:`Request` object.\u001b[39;00m\n\u001b[1;32m    597\u001b[0m \u001b[39m:param \\*\\*kwargs: Optional arguments that ``request`` takes.\u001b[39;00m\n\u001b[1;32m    598\u001b[0m \u001b[39m:rtype: requests.Response\u001b[39;00m\n\u001b[1;32m    599\u001b[0m \u001b[39m\"\"\"\u001b[39;00m\n\u001b[1;32m    601\u001b[0m kwargs\u001b[39m.\u001b[39msetdefault(\u001b[39m\"\u001b[39m\u001b[39mallow_redirects\u001b[39m\u001b[39m\"\u001b[39m, \u001b[39mTrue\u001b[39;00m)\n\u001b[0;32m--> 602\u001b[0m \u001b[39mreturn\u001b[39;00m \u001b[39mself\u001b[39;49m\u001b[39m.\u001b[39;49mrequest(\u001b[39m\"\u001b[39;49m\u001b[39mGET\u001b[39;49m\u001b[39m\"\u001b[39;49m, url, \u001b[39m*\u001b[39;49m\u001b[39m*\u001b[39;49mkwargs)\n",
      "File \u001b[0;32m/work/van-speech-nlp/jindaznb/mmenv/lib/python3.9/site-packages/requests/sessions.py:575\u001b[0m, in \u001b[0;36mSession.request\u001b[0;34m(self, method, url, params, data, headers, cookies, files, auth, timeout, allow_redirects, proxies, hooks, stream, verify, cert, json)\u001b[0m\n\u001b[1;32m    562\u001b[0m \u001b[39m# Create the Request.\u001b[39;00m\n\u001b[1;32m    563\u001b[0m req \u001b[39m=\u001b[39m Request(\n\u001b[1;32m    564\u001b[0m     method\u001b[39m=\u001b[39mmethod\u001b[39m.\u001b[39mupper(),\n\u001b[1;32m    565\u001b[0m     url\u001b[39m=\u001b[39murl,\n\u001b[0;32m   (...)\u001b[0m\n\u001b[1;32m    573\u001b[0m     hooks\u001b[39m=\u001b[39mhooks,\n\u001b[1;32m    574\u001b[0m )\n\u001b[0;32m--> 575\u001b[0m prep \u001b[39m=\u001b[39m \u001b[39mself\u001b[39;49m\u001b[39m.\u001b[39;49mprepare_request(req)\n\u001b[1;32m    577\u001b[0m proxies \u001b[39m=\u001b[39m proxies \u001b[39mor\u001b[39;00m {}\n\u001b[1;32m    579\u001b[0m settings \u001b[39m=\u001b[39m \u001b[39mself\u001b[39m\u001b[39m.\u001b[39mmerge_environment_settings(\n\u001b[1;32m    580\u001b[0m     prep\u001b[39m.\u001b[39murl, proxies, stream, verify, cert\n\u001b[1;32m    581\u001b[0m )\n",
      "File \u001b[0;32m/work/van-speech-nlp/jindaznb/mmenv/lib/python3.9/site-packages/requests/sessions.py:484\u001b[0m, in \u001b[0;36mSession.prepare_request\u001b[0;34m(self, request)\u001b[0m\n\u001b[1;32m    481\u001b[0m     auth \u001b[39m=\u001b[39m get_netrc_auth(request\u001b[39m.\u001b[39murl)\n\u001b[1;32m    483\u001b[0m p \u001b[39m=\u001b[39m PreparedRequest()\n\u001b[0;32m--> 484\u001b[0m p\u001b[39m.\u001b[39;49mprepare(\n\u001b[1;32m    485\u001b[0m     method\u001b[39m=\u001b[39;49mrequest\u001b[39m.\u001b[39;49mmethod\u001b[39m.\u001b[39;49mupper(),\n\u001b[1;32m    486\u001b[0m     url\u001b[39m=\u001b[39;49mrequest\u001b[39m.\u001b[39;49murl,\n\u001b[1;32m    487\u001b[0m     files\u001b[39m=\u001b[39;49mrequest\u001b[39m.\u001b[39;49mfiles,\n\u001b[1;32m    488\u001b[0m     data\u001b[39m=\u001b[39;49mrequest\u001b[39m.\u001b[39;49mdata,\n\u001b[1;32m    489\u001b[0m     json\u001b[39m=\u001b[39;49mrequest\u001b[39m.\u001b[39;49mjson,\n\u001b[1;32m    490\u001b[0m     headers\u001b[39m=\u001b[39;49mmerge_setting(\n\u001b[1;32m    491\u001b[0m         request\u001b[39m.\u001b[39;49mheaders, \u001b[39mself\u001b[39;49m\u001b[39m.\u001b[39;49mheaders, dict_class\u001b[39m=\u001b[39;49mCaseInsensitiveDict\n\u001b[1;32m    492\u001b[0m     ),\n\u001b[1;32m    493\u001b[0m     params\u001b[39m=\u001b[39;49mmerge_setting(request\u001b[39m.\u001b[39;49mparams, \u001b[39mself\u001b[39;49m\u001b[39m.\u001b[39;49mparams),\n\u001b[1;32m    494\u001b[0m     auth\u001b[39m=\u001b[39;49mmerge_setting(auth, \u001b[39mself\u001b[39;49m\u001b[39m.\u001b[39;49mauth),\n\u001b[1;32m    495\u001b[0m     cookies\u001b[39m=\u001b[39;49mmerged_cookies,\n\u001b[1;32m    496\u001b[0m     hooks\u001b[39m=\u001b[39;49mmerge_hooks(request\u001b[39m.\u001b[39;49mhooks, \u001b[39mself\u001b[39;49m\u001b[39m.\u001b[39;49mhooks),\n\u001b[1;32m    497\u001b[0m )\n\u001b[1;32m    498\u001b[0m \u001b[39mreturn\u001b[39;00m p\n",
      "File \u001b[0;32m/work/van-speech-nlp/jindaznb/mmenv/lib/python3.9/site-packages/requests/models.py:367\u001b[0m, in \u001b[0;36mPreparedRequest.prepare\u001b[0;34m(self, method, url, headers, files, data, params, auth, cookies, hooks, json)\u001b[0m\n\u001b[1;32m    364\u001b[0m \u001b[39m\u001b[39m\u001b[39m\"\"\"Prepares the entire request with the given parameters.\"\"\"\u001b[39;00m\n\u001b[1;32m    366\u001b[0m \u001b[39mself\u001b[39m\u001b[39m.\u001b[39mprepare_method(method)\n\u001b[0;32m--> 367\u001b[0m \u001b[39mself\u001b[39;49m\u001b[39m.\u001b[39;49mprepare_url(url, params)\n\u001b[1;32m    368\u001b[0m \u001b[39mself\u001b[39m\u001b[39m.\u001b[39mprepare_headers(headers)\n\u001b[1;32m    369\u001b[0m \u001b[39mself\u001b[39m\u001b[39m.\u001b[39mprepare_cookies(cookies)\n",
      "File \u001b[0;32m/work/van-speech-nlp/jindaznb/mmenv/lib/python3.9/site-packages/requests/models.py:438\u001b[0m, in \u001b[0;36mPreparedRequest.prepare_url\u001b[0;34m(self, url, params)\u001b[0m\n\u001b[1;32m    435\u001b[0m     \u001b[39mraise\u001b[39;00m InvalidURL(\u001b[39m*\u001b[39me\u001b[39m.\u001b[39margs)\n\u001b[1;32m    437\u001b[0m \u001b[39mif\u001b[39;00m \u001b[39mnot\u001b[39;00m scheme:\n\u001b[0;32m--> 438\u001b[0m     \u001b[39mraise\u001b[39;00m MissingSchema(\n\u001b[1;32m    439\u001b[0m         \u001b[39mf\u001b[39m\u001b[39m\"\u001b[39m\u001b[39mInvalid URL \u001b[39m\u001b[39m{\u001b[39;00murl\u001b[39m!r}\u001b[39;00m\u001b[39m: No scheme supplied. \u001b[39m\u001b[39m\"\u001b[39m\n\u001b[1;32m    440\u001b[0m         \u001b[39mf\u001b[39m\u001b[39m\"\u001b[39m\u001b[39mPerhaps you meant https://\u001b[39m\u001b[39m{\u001b[39;00murl\u001b[39m}\u001b[39;00m\u001b[39m?\u001b[39m\u001b[39m\"\u001b[39m\n\u001b[1;32m    441\u001b[0m     )\n\u001b[1;32m    443\u001b[0m \u001b[39mif\u001b[39;00m \u001b[39mnot\u001b[39;00m host:\n\u001b[1;32m    444\u001b[0m     \u001b[39mraise\u001b[39;00m InvalidURL(\u001b[39mf\u001b[39m\u001b[39m\"\u001b[39m\u001b[39mInvalid URL \u001b[39m\u001b[39m{\u001b[39;00murl\u001b[39m!r}\u001b[39;00m\u001b[39m: No host supplied\u001b[39m\u001b[39m\"\u001b[39m)\n",
      "\u001b[0;31mMissingSchema\u001b[0m: Invalid URL '/work/van-speech-nlp/jindaznb/jslpnb/mllm_experiments/ellmat/notebook/In-person Language ELLMA VR Recordings/P001-com.oculus.vrshell-20240807-093454.mp4': No scheme supplied. Perhaps you meant https:///work/van-speech-nlp/jindaznb/jslpnb/mllm_experiments/ellmat/notebook/In-person Language ELLMA VR Recordings/P001-com.oculus.vrshell-20240807-093454.mp4?"
     ]
    }
   ],
   "source": [
    "import gdown\n",
    "from tqdm import tqdm\n",
    "import os\n",
    "\n",
    "# Define the folder URL\n",
    "url = \"https://drive.google.com/drive/u/0/folders/1hiV_IaEcUtFcBq3tG81L0rQFArdJSYf9\"\n",
    "\n",
    "# Define the destination folder for downloading files\n",
    "destination_folder = \"../data\"\n",
    "\n",
    "# Make sure the destination folder exists, or create it\n",
    "os.makedirs(destination_folder, exist_ok=True)\n",
    "\n",
    "# Define a function to download the folder with a progress bar\n",
    "def download_folder_with_progress(url, destination_folder):\n",
    "    # First, gdown needs to fetch all files inside the folder\n",
    "    file_list = gdown.download_folder(url, use_cookies=False)\n",
    "    \n",
    "    # Loop through all the downloaded files\n",
    "    for file in tqdm(file_list, desc=\"Downloading files\", unit=\"file\"):\n",
    "        print(f\"Downloading {file}\")\n",
    "        \n",
    "        # Define the full path to save the file\n",
    "        output = os.path.join(destination_folder, os.path.basename(file))\n",
    "        \n",
    "        # Download the file to the specified folder\n",
    "        gdown.download(file, output, quiet=False)\n",
    "\n",
    "# Call the function with the specified folder\n",
    "download_folder_with_progress(url, destination_folder)"
   ]
  },
  {
   "cell_type": "code",
   "execution_count": 3,
   "metadata": {},
   "outputs": [
    {
     "name": "stdout",
     "output_type": "stream",
     "text": [
      "File: P001-com.oculus.vrshell-20240807-093454.mp4, Size: 294.27 MB\n",
      "File: P002-com.oculus.vrshell-20240807-111441.mp4, Size: 46.20 MB\n",
      "File: P003-com.oculus.vrshell-20240807-113929.mp4, Size: 442.18 MB\n",
      "File: P004-com.oculus.vrshell-20240807-130612.mp4, Size: 415.10 MB\n",
      "File: P005-com.oculus.vrshell-20240807-134452.mp4, Size: 358.47 MB\n",
      "File: P006-com.oculus.vrshell-20240807-141325.mp4, Size: 267.70 MB\n",
      "File: P007-com.oculus.vrshell-20240808-095942.mp4, Size: 364.36 MB\n",
      "File: P008-com.oculus.vrshell-20240808-103714.mp4, Size: 349.46 MB\n",
      "File: P009-com.oculus.vrshell-20240808-113724.mp4, Size: 578.93 MB\n",
      "File: P010-com.oculus.vrshell-20240809-113425.mp4, Size: 334.55 MB\n",
      "File: P011-com.oculus.vrshell-20240812-100724.mp4, Size: 291.09 MB\n"
     ]
    }
   ],
   "source": [
    "import os\n",
    "\n",
    "# Specify the folder path\n",
    "folder_path = \"/work/van-speech-nlp/jindaznb/jslpnb/mllm_experiments/ellmat/data/In-person Language ELLMA VR Recordings\"  # Change this to your desired folder path\n",
    "\n",
    "# Function to list all files and their sizes in MB\n",
    "def list_files_and_sizes(folder_path):\n",
    "    # Check if the folder exists\n",
    "    if not os.path.exists(folder_path):\n",
    "        print(f\"The folder {folder_path} does not exist.\")\n",
    "        return\n",
    "    \n",
    "    # Loop through the folder\n",
    "    for root, dirs, files in os.walk(folder_path):\n",
    "        for file in files:\n",
    "            # Get the full path of the file\n",
    "            file_path = os.path.join(root, file)\n",
    "            # Get the size of the file in bytes\n",
    "            file_size_bytes = os.path.getsize(file_path)\n",
    "            # Convert the size from bytes to megabytes\n",
    "            file_size_mb = file_size_bytes / (1024 * 1024)\n",
    "            # Print the file name and its size in MB\n",
    "            print(f\"File: {file}, Size: {file_size_mb:.2f} MB\")\n",
    "\n",
    "# Call the function to list files and sizes in MB\n",
    "list_files_and_sizes(folder_path)"
   ]
  }
 ],
 "metadata": {
  "kernelspec": {
   "display_name": "Python 3",
   "language": "python",
   "name": "python3"
  },
  "language_info": {
   "codemirror_mode": {
    "name": "ipython",
    "version": 3
   },
   "file_extension": ".py",
   "mimetype": "text/x-python",
   "name": "python",
   "nbconvert_exporter": "python",
   "pygments_lexer": "ipython3",
   "version": "3.9.19"
  },
  "orig_nbformat": 4
 },
 "nbformat": 4,
 "nbformat_minor": 2
}
